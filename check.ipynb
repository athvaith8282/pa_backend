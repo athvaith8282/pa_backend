{
 "cells": [
  {
   "cell_type": "code",
   "execution_count": 1,
   "id": "1a2b5e2a",
   "metadata": {},
   "outputs": [],
   "source": [
    "import aiosqlite\n",
    "thread_id = \"2d60a470-32b8-42f4-84da-4f20604de089\""
   ]
  },
  {
   "cell_type": "code",
   "execution_count": 2,
   "id": "0b6047ed",
   "metadata": {},
   "outputs": [
    {
     "name": "stdout",
     "output_type": "stream",
     "text": [
      "[('3fa85f64-5717-4562-b3fc-2c963f66afa6',)]\n"
     ]
    }
   ],
   "source": [
    "async with aiosqlite.connect(\"/Users/athvaithk/Desktop/LLM/projects/pa_agent_backend/data/sqlite_db/pa_agent_db.sqlite\") as db:\n",
    "        async with db.execute(\"SELECT DISTINCT thread_id FROM checkpoints\") as cursor:\n",
    "            rows = await cursor.fetchall()\n",
    "            result =  [row[0] for row in rows]\n",
    "            print(rows)"
   ]
  },
  {
   "cell_type": "code",
   "execution_count": 4,
   "id": "d23bc10e",
   "metadata": {},
   "outputs": [],
   "source": [
    "from langgraph.checkpoint.sqlite.aio import AsyncSqliteSaver\n",
    "SQLITE_FILEPATH = \"/Users/athvaithk/Desktop/LLM/projects/pa_agent_backend/data/sqlite_db/pa_agent_db.sqlite\"\n",
    "conn = await aiosqlite.connect(SQLITE_FILEPATH)"
   ]
  },
  {
   "cell_type": "code",
   "execution_count": 5,
   "id": "7f649290",
   "metadata": {},
   "outputs": [],
   "source": [
    "mem = AsyncSqliteSaver(\n",
    "    conn=conn\n",
    ")"
   ]
  },
  {
   "cell_type": "code",
   "execution_count": 14,
   "id": "0664ae3c",
   "metadata": {},
   "outputs": [],
   "source": [
    "block = await mem.aget(\n",
    "    config={\n",
    "        \"configurable\": {\n",
    "            \"thread_id\": thread_id\n",
    "        }\n",
    "    }\n",
    ")"
   ]
  },
  {
   "cell_type": "code",
   "execution_count": 13,
   "id": "7aa1b704",
   "metadata": {},
   "outputs": [
    {
     "data": {
      "text/plain": [
       "True"
      ]
     },
     "execution_count": 13,
     "metadata": {},
     "output_type": "execute_result"
    }
   ],
   "source": [
    "block == None"
   ]
  },
  {
   "cell_type": "code",
   "execution_count": 10,
   "id": "7c2798f2",
   "metadata": {},
   "outputs": [
    {
     "ename": "TypeError",
     "evalue": "'NoneType' object is not subscriptable",
     "output_type": "error",
     "traceback": [
      "\u001b[31m---------------------------------------------------------------------------\u001b[39m",
      "\u001b[31mTypeError\u001b[39m                                 Traceback (most recent call last)",
      "\u001b[36mCell\u001b[39m\u001b[36m \u001b[39m\u001b[32mIn[10]\u001b[39m\u001b[32m, line 1\u001b[39m\n\u001b[32m----> \u001b[39m\u001b[32m1\u001b[39m history = \u001b[43mblock\u001b[49m\u001b[43m[\u001b[49m\u001b[33;43m\"\u001b[39;49m\u001b[33;43mchannel_values\u001b[39;49m\u001b[33;43m\"\u001b[39;49m\u001b[43m]\u001b[49m[\u001b[33m\"\u001b[39m\u001b[33mmessages\u001b[39m\u001b[33m\"\u001b[39m]\n",
      "\u001b[31mTypeError\u001b[39m: 'NoneType' object is not subscriptable"
     ]
    }
   ],
   "source": [
    "history = block[\"channel_values\"][\"messages\"]"
   ]
  },
  {
   "cell_type": "code",
   "execution_count": 8,
   "id": "6898726c",
   "metadata": {},
   "outputs": [
    {
     "data": {
      "text/plain": [
       "[HumanMessage(content='2 nd message', additional_kwargs={}, response_metadata={}, id='23bf9ce3-502f-4051-93d7-e502fc51729a'),\n",
       " AIMessage(content='Hello, How Can I help You Today!!', additional_kwargs={}, response_metadata={}, id='149a9ed8-792f-4b90-8929-15d50965108b'),\n",
       " HumanMessage(content='3 rd message', additional_kwargs={}, response_metadata={}, id='ea69ac33-ab09-41a1-821f-ef6d020478d6'),\n",
       " AIMessage(content='Hello, How Can I help You Today!!', additional_kwargs={}, response_metadata={}, id='d64f5c96-c5a8-479e-910c-e1300d54f77b'),\n",
       " HumanMessage(content='3 rd message', additional_kwargs={}, response_metadata={}, id='c68b9084-43f7-4afa-99f5-d7477c378530'),\n",
       " AIMessage(content='Hello, How Can I help You Today!!', additional_kwargs={}, response_metadata={}, id='17c98bcb-9e24-4ac1-8f6d-e59e2bcfa3e6')]"
      ]
     },
     "execution_count": 8,
     "metadata": {},
     "output_type": "execute_result"
    }
   ],
   "source": [
    "history"
   ]
  },
  {
   "cell_type": "code",
   "execution_count": 1,
   "id": "0d67d972",
   "metadata": {},
   "outputs": [],
   "source": [
    "l = []\n",
    "if l:\n",
    "    print(\"yes\")"
   ]
  },
  {
   "cell_type": "code",
   "execution_count": 2,
   "id": "2282ed01",
   "metadata": {},
   "outputs": [],
   "source": [
    "if l == None:\n",
    "    print(\"yes\")"
   ]
  },
  {
   "cell_type": "code",
   "execution_count": null,
   "id": "d391c01e",
   "metadata": {},
   "outputs": [],
   "source": []
  }
 ],
 "metadata": {
  "kernelspec": {
   "display_name": "pa-agent-backend",
   "language": "python",
   "name": "python3"
  },
  "language_info": {
   "codemirror_mode": {
    "name": "ipython",
    "version": 3
   },
   "file_extension": ".py",
   "mimetype": "text/x-python",
   "name": "python",
   "nbconvert_exporter": "python",
   "pygments_lexer": "ipython3",
   "version": "3.11.10"
  }
 },
 "nbformat": 4,
 "nbformat_minor": 5
}
